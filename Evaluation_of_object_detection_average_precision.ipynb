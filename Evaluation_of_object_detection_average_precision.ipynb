{
  "cells": [
    {
      "cell_type": "markdown",
      "metadata": {
        "id": "view-in-github",
        "colab_type": "text"
      },
      "source": [
        "<a href=\"https://colab.research.google.com/github/palVikram/Machine-Learning-using-Python/blob/master/Evaluation_of_object_detection_average_precision.ipynb\" target=\"_parent\"><img src=\"https://colab.research.google.com/assets/colab-badge.svg\" alt=\"Open In Colab\"/></a>"
      ]
    },
    {
      "cell_type": "code",
      "source": [
        "### Evaluating Object Detection Models\n",
        "y_true = [\"positive\", \"negative\", \"negative\", \"positive\", \"positive\", \"positive\", \"negative\", \"positive\", \"negative\", \"positive\"]\n"
      ],
      "metadata": {
        "id": "CDVo5k4k1qsD"
      },
      "execution_count": 1,
      "outputs": []
    },
    {
      "cell_type": "markdown",
      "source": [
        "The average precision (AP) is a way to summarize the precision-recall curve into a single value representing the average of all precisions. The AP is calculated according to the next equation. Using a loop that goes through all precisions/recalls, the difference between the current and next recalls is calculated and then multiplied by the current precision. In other words, the AP is the weighted sum of precisions at each threshold where the weight is the increase in recall."
      ],
      "metadata": {
        "id": "_imNrgft5q1U"
      }
    },
    {
      "cell_type": "code",
      "source": [
        "pred_scores = [0.7, 0.3, 0.5, 0.6, 0.55, 0.9, 0.4, 0.2, 0.4, 0.3]\n"
      ],
      "metadata": {
        "id": "igFWMZf_1xs9"
      },
      "execution_count": 2,
      "outputs": []
    },
    {
      "cell_type": "code",
      "source": [
        "import numpy\n",
        "\n",
        "pred_scores = [0.7, 0.3, 0.5, 0.6, 0.55, 0.9, 0.4, 0.2, 0.4, 0.3]\n",
        "y_true = [\"positive\", \"negative\", \"negative\", \"positive\", \"positive\", \"positive\", \"negative\", \"positive\", \"negative\", \"positive\"]\n",
        "\n",
        "threshold = 0.5\n",
        "y_pred = [\"positive\" if score >= threshold else \"negative\" for score in pred_scores]\n",
        "print(y_pred)"
      ],
      "metadata": {
        "id": "-x2nXZYF1zxc",
        "outputId": "82e52e0f-6da7-4e43-e44d-94867a0b6d02",
        "colab": {
          "base_uri": "https://localhost:8080/"
        }
      },
      "execution_count": 3,
      "outputs": [
        {
          "output_type": "stream",
          "name": "stdout",
          "text": [
            "['positive', 'negative', 'positive', 'positive', 'positive', 'positive', 'negative', 'negative', 'negative', 'negative']\n"
          ]
        }
      ]
    },
    {
      "cell_type": "code",
      "source": [
        "import numpy as np\n",
        "from sklearn.metrics import confusion_matrix, precision_score,recall_score\n",
        "r = numpy.flip(confusion_matrix(y_true, y_pred))\n",
        "print(r)\n",
        "\n",
        "precision = precision_score(y_true=y_true, y_pred=y_pred, pos_label=\"positive\")\n",
        "print(precision)\n",
        "\n",
        "recall = recall_score(y_true=y_true, y_pred=y_pred, pos_label=\"positive\")\n",
        "print(recall)"
      ],
      "metadata": {
        "id": "FtPRT3dH13HZ",
        "outputId": "bfed6b58-b136-443c-f5c3-48f966939c02",
        "colab": {
          "base_uri": "https://localhost:8080/"
        }
      },
      "execution_count": 5,
      "outputs": [
        {
          "output_type": "stream",
          "name": "stdout",
          "text": [
            "[[4 2]\n",
            " [1 3]]\n",
            "0.8\n",
            "0.6666666666666666\n"
          ]
        }
      ]
    },
    {
      "cell_type": "code",
      "source": [
        "thresholds = numpy.arange(start=0.2, stop=0.7, step=0.05)\n",
        "thresholds"
      ],
      "metadata": {
        "id": "yKUeFglx1-90",
        "outputId": "8a621d06-6d2c-4d90-ab3d-fb1cf6ba06a7",
        "colab": {
          "base_uri": "https://localhost:8080/"
        }
      },
      "execution_count": 6,
      "outputs": [
        {
          "output_type": "execute_result",
          "data": {
            "text/plain": [
              "array([0.2 , 0.25, 0.3 , 0.35, 0.4 , 0.45, 0.5 , 0.55, 0.6 , 0.65])"
            ]
          },
          "metadata": {},
          "execution_count": 6
        }
      ]
    },
    {
      "cell_type": "code",
      "source": [
        "### checking precision and recall across different prediction. \n",
        "import sklearn.metrics\n",
        "\n",
        "def precision_recall_curve(y_true, pred_scores, thresholds):\n",
        "    precisions = []\n",
        "    recalls = []\n",
        "    \n",
        "    for threshold in thresholds:\n",
        "        y_pred = [\"positive\" if score >= threshold else \"negative\" for score in pred_scores]\n",
        "\n",
        "        precision = sklearn.metrics.precision_score(y_true=y_true, y_pred=y_pred, pos_label=\"positive\")\n",
        "        recall = sklearn.metrics.recall_score(y_true=y_true, y_pred=y_pred, pos_label=\"positive\")\n",
        "        \n",
        "        precisions.append(precision)\n",
        "        recalls.append(recall)\n",
        "\n",
        "    return precisions, recalls"
      ],
      "metadata": {
        "id": "0Jonk7uH3HRB"
      },
      "execution_count": 7,
      "outputs": []
    },
    {
      "cell_type": "code",
      "source": [
        "precisions, recalls = precision_recall_curve(y_true=y_true, \n",
        "                                             pred_scores=pred_scores,\n",
        "                                             thresholds=thresholds)"
      ],
      "metadata": {
        "id": "VKwKCbuP3gq9"
      },
      "execution_count": 8,
      "outputs": []
    },
    {
      "cell_type": "code",
      "source": [
        "import matplotlib.pyplot as plt\n",
        "plt.plot(recalls, precisions, linewidth=4, color=\"red\")\n",
        "plt.xlabel(\"Recall\", fontsize=12, fontweight='bold')\n",
        "plt.ylabel(\"Precision\", fontsize=12, fontweight='bold')\n",
        "plt.title(\"Precision-Recall Curve\", fontsize=15, fontweight=\"bold\")\n",
        "plt.show()"
      ],
      "metadata": {
        "id": "gh8myO3q3jsd",
        "outputId": "8ea6836c-c46b-4825-fc1b-39b0f5638e96",
        "colab": {
          "base_uri": "https://localhost:8080/",
          "height": 300
        }
      },
      "execution_count": 9,
      "outputs": [
        {
          "output_type": "display_data",
          "data": {
            "text/plain": [
              "<Figure size 432x288 with 1 Axes>"
            ],
            "image/png": "[encoded data removed]"
          },
          "metadata": {
            "needs_background": "light"
          }
        }
      ]
    },
    {
      "cell_type": "code",
      "source": [
        "f1 = 2 * ((numpy.array(precisions) * numpy.array(recalls)) / (numpy.array(precisions) + numpy.array(recalls)))"
      ],
      "metadata": {
        "id": "l23G-JCn33Lb"
      },
      "execution_count": 10,
      "outputs": []
    },
    {
      "cell_type": "code",
      "source": [
        "plt.plot(recalls, precisions, linewidth=4, color=\"red\", zorder=0)\n",
        "plt.scatter(recalls[5], precisions[5], zorder=1, linewidth=6)\n",
        "\n",
        "plt.xlabel(\"Recall\", fontsize=12, fontweight='bold')\n",
        "plt.ylabel(\"Precision\", fontsize=12, fontweight='bold')\n",
        "plt.title(\"Precision-Recall Curve\", fontsize=15, fontweight=\"bold\")\n",
        "plt.show()"
      ],
      "metadata": {
        "id": "Af_iy-UI3-ne",
        "outputId": "42e0b49e-49c9-4939-89c5-1bf422cf3fd6",
        "colab": {
          "base_uri": "https://localhost:8080/",
          "height": 300
        }
      },
      "execution_count": 11,
      "outputs": [
        {
          "output_type": "display_data",
          "data": {
            "text/plain": [
              "<Figure size 432x288 with 1 Axes>"
            ],
            "image/png": "[encoded data removed]"
          },
          "metadata": {
            "needs_background": "light"
          }
        }
      ]
    },
    {
      "cell_type": "code",
      "source": [
        "precisions[:-1]"
      ],
      "metadata": {
        "id": "6rE-er2h467A",
        "outputId": "ffa1f256-ca20-48de-92c5-32c129d7fd8b",
        "colab": {
          "base_uri": "https://localhost:8080/"
        }
      },
      "execution_count": 16,
      "outputs": [
        {
          "output_type": "execute_result",
          "data": {
            "text/plain": [
              "[0.6,\n",
              " 0.5555555555555556,\n",
              " 0.5555555555555556,\n",
              " 0.5714285714285714,\n",
              " 0.5714285714285714,\n",
              " 0.8,\n",
              " 0.8,\n",
              " 1.0,\n",
              " 1.0]"
            ]
          },
          "metadata": {},
          "execution_count": 16
        }
      ]
    },
    {
      "cell_type": "code",
      "source": [
        "AP = np.sum((np.array(recalls[:-1]) - np.array(recalls[1:])) * precisions[:-1])\n",
        "AP"
      ],
      "metadata": {
        "id": "_bkOc7g44L0o",
        "outputId": "cc2738f2-2171-477a-e54e-17f452785219",
        "colab": {
          "base_uri": "https://localhost:8080/"
        }
      },
      "execution_count": 18,
      "outputs": [
        {
          "output_type": "execute_result",
          "data": {
            "text/plain": [
              "0.5259259259259259"
            ]
          },
          "metadata": {},
          "execution_count": 18
        }
      ]
    },
    {
      "cell_type": "code",
      "source": [
        "import numpy\n",
        "import sklearn.metrics\n",
        "\n",
        "def precision_recall_curve(y_true, pred_scores, thresholds):\n",
        "    precisions = []\n",
        "    recalls = []\n",
        "    \n",
        "    for threshold in thresholds:\n",
        "        y_pred = [\"positive\" if score >= threshold else \"negative\" for score in pred_scores]\n",
        "\n",
        "        precision = sklearn.metrics.precision_score(y_true=y_true, y_pred=y_pred, pos_label=\"positive\")\n",
        "        recall = sklearn.metrics.recall_score(y_true=y_true, y_pred=y_pred, pos_label=\"positive\")\n",
        "        \n",
        "        precisions.append(precision)\n",
        "        recalls.append(recall)\n",
        "\n",
        "    return precisions, recalls\n",
        "\n",
        "y_true = [\"positive\", \"negative\", \"negative\", \"positive\", \"positive\", \"positive\", \"negative\", \"positive\", \"negative\", \"positive\", \"positive\", \"positive\", \"positive\", \"negative\", \"negative\", \"negative\"]\n",
        "pred_scores = [0.7, 0.3, 0.5, 0.6, 0.55, 0.9, 0.4, 0.2, 0.4, 0.3, 0.7, 0.5, 0.8, 0.2, 0.3, 0.35]\n",
        "thresholds=numpy.arange(start=0.2, stop=0.7, step=0.05)\n",
        "\n",
        "precisions, recalls = precision_recall_curve(y_true=y_true, \n",
        "                                             pred_scores=pred_scores, \n",
        "                                             thresholds=thresholds)\n",
        "\n",
        "precisions.append(1)\n",
        "recalls.append(0)\n",
        "\n",
        "precisions = numpy.array(precisions)\n",
        "recalls = numpy.array(recalls)\n",
        "\n",
        "AP = numpy.sum((recalls[:-1] - recalls[1:]) * precisions[:-1])\n",
        "print(AP)"
      ],
      "metadata": {
        "id": "9g-mXR4f4mwH",
        "outputId": "4ed9d6c9-9daa-4fa7-9678-0f9c45336288",
        "colab": {
          "base_uri": "https://localhost:8080/"
        }
      },
      "execution_count": 19,
      "outputs": [
        {
          "output_type": "stream",
          "name": "stdout",
          "text": [
            "0.8898809523809523\n"
          ]
        }
      ]
    },
    {
      "cell_type": "markdown",
      "source": [
        "Here is a summary of the steps to calculate the AP:\n",
        "\n",
        "Generate the prediction scores using the model.\n",
        "\n",
        "* Convert the prediction scores to class labels.\n",
        "* Calculate the confusion matrix.\n",
        "* Calculate the precision and recall metrics.\n",
        "* Create the precision-recall curve.\n",
        "* Measure the average precision.\n",
        "\n"
      ],
      "metadata": {
        "id": "4Wh6Knjq5aAA"
      }
    },
    {
      "cell_type": "code",
      "source": [
        ""
      ],
      "metadata": {
        "id": "S2HoOrsE5oFW"
      },
      "execution_count": null,
      "outputs": []
    }
  ],
  "metadata": {
    "colab": {
      "collapsed_sections": [],
      "name": "Welcome To Colaboratory",
      "provenance": [],
      "include_colab_link": true
    },
    "kernelspec": {
      "display_name": "Python 3",
      "name": "python3"
    }
  },
  "nbformat": 4,
  "nbformat_minor": 0
}